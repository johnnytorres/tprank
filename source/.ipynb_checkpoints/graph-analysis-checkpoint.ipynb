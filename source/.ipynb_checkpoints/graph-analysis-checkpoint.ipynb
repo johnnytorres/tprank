{
 "cells": [
  {
   "cell_type": "code",
   "execution_count": 13,
   "metadata": {
    "collapsed": true
   },
   "outputs": [],
   "source": [
    "%matplotlib inline\n",
    "\n",
    "import pandas as pd\n",
    "import matplotlib.pyplot as plt\n",
    "import os \n"
   ]
  },
  {
   "cell_type": "code",
   "execution_count": 14,
   "metadata": {
    "collapsed": false
   },
   "outputs": [],
   "source": [
    "os.chdir('../dataset/')"
   ]
  },
  {
   "cell_type": "code",
   "execution_count": 15,
   "metadata": {
    "collapsed": false
   },
   "outputs": [
    {
     "name": "stdout",
     "output_type": "stream",
     "text": [
      "/Users/john/research/twitterpxrank/dataset\n",
      "credentials.txt\n",
      "graphLinks.txt\n",
      "graphLocations.txt\n",
      "graphUsers.txt\n",
      "license.txt\n",
      "links.txt\n",
      "locations.txt\n",
      "meanlocations.txt\n",
      "rankcorr.txt\n",
      "resultSampleProfiles.txt\n",
      "resultSampleUsersMap.txt\n",
      "results.txt\n",
      "sample_links.txt\n",
      "sample_links1.txt\n",
      "sample_links2.txt\n",
      "sample_links3.txt\n",
      "sample_topic_names.txt\n",
      "sample_topics.txt\n",
      "sample_tweets.txt\n",
      "stopwords.txt\n",
      "tweets.txt\n",
      "users.txt\n",
      "usersmap.txt\n",
      "weird.txt\n",
      "wordsmap.txt\n"
     ]
    }
   ],
   "source": [
    "%%bash\n",
    "pwd\n",
    "ls *.txt"
   ]
  },
  {
   "cell_type": "code",
   "execution_count": 16,
   "metadata": {
    "collapsed": true
   },
   "outputs": [],
   "source": [
    "users = pd.read_csv('users.txt', header=None)\n",
    "users.columns = ['id', 'statuses', 'followers', 'friends']\n",
    "usersmap = pd.read_csv('usersmap.txt', header=None)\n",
    "usersmap.columns = ['id', 'twitter_id', 'screen_name']\n",
    "homelocations = pd.read_csv('meanlocations.txt')\n",
    "links = pd.read_csv('links.txt', header=None)\n",
    "links.columns = ['source', 'target']"
   ]
  },
  {
   "cell_type": "code",
   "execution_count": 17,
   "metadata": {
    "collapsed": false
   },
   "outputs": [
    {
     "data": {
      "text/plain": [
       "array([ 1,  3,  6, 12, 17, 20, 21, 24, 27, 30])"
      ]
     },
     "execution_count": 17,
     "metadata": {},
     "output_type": "execute_result"
    }
   ],
   "source": [
    "linkedusers = users[(users.id.isin(links.source)) | users.id.isin(links.target)]\n",
    "linkedusers.shape\n",
    "linkedusers = linkedusers.iloc[0:10,0]\n",
    "linkedusers.values"
   ]
  },
  {
   "cell_type": "code",
   "execution_count": 54,
   "metadata": {
    "collapsed": false
   },
   "outputs": [],
   "source": [
    "#import networkx as nx"
   ]
  },
  {
   "cell_type": "code",
   "execution_count": 65,
   "metadata": {
    "collapsed": true
   },
   "outputs": [],
   "source": [
    "#g = nx.Graph()"
   ]
  },
  {
   "cell_type": "code",
   "execution_count": 66,
   "metadata": {
    "collapsed": false
   },
   "outputs": [],
   "source": [
    "#g.add_nodes_from(linkedusers.values)"
   ]
  },
  {
   "cell_type": "code",
   "execution_count": 67,
   "metadata": {
    "collapsed": false
   },
   "outputs": [],
   "source": [
    "#edges = zip(links['source'], links['target'])\n",
    "#g.add_edges_from(list(edges))"
   ]
  },
  {
   "cell_type": "code",
   "execution_count": 71,
   "metadata": {
    "collapsed": false
   },
   "outputs": [],
   "source": [
    "#pos = nx.spring_layout(g)\n",
    "#nx.draw_networkx_nodes(g,pos, node_size='10')"
   ]
  },
  {
   "cell_type": "code",
   "execution_count": null,
   "metadata": {
    "collapsed": true
   },
   "outputs": [],
   "source": []
  }
 ],
 "metadata": {
  "kernelspec": {
   "display_name": "Python 3",
   "language": "python",
   "name": "python3"
  },
  "language_info": {
   "codemirror_mode": {
    "name": "ipython",
    "version": 3
   },
   "file_extension": ".py",
   "mimetype": "text/x-python",
   "name": "python",
   "nbconvert_exporter": "python",
   "pygments_lexer": "ipython3",
   "version": "3.5.2"
  }
 },
 "nbformat": 4,
 "nbformat_minor": 0
}
